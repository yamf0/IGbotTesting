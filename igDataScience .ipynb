{
 "cells": [
  {
   "cell_type": "code",
   "execution_count": 35,
   "metadata": {},
   "outputs": [],
   "source": [
    "import pandas as pd\n",
    "import numpy as np"
   ]
  },
  {
   "cell_type": "code",
   "execution_count": 62,
   "metadata": {},
   "outputs": [
    {
     "data": {
      "text/html": [
       "<div>\n",
       "<style scoped>\n",
       "    .dataframe tbody tr th:only-of-type {\n",
       "        vertical-align: middle;\n",
       "    }\n",
       "\n",
       "    .dataframe tbody tr th {\n",
       "        vertical-align: top;\n",
       "    }\n",
       "\n",
       "    .dataframe thead th {\n",
       "        text-align: right;\n",
       "    }\n",
       "</style>\n",
       "<table border=\"1\" class=\"dataframe\">\n",
       "  <thead>\n",
       "    <tr style=\"text-align: right;\">\n",
       "      <th></th>\n",
       "      <th>DateRunning</th>\n",
       "      <th>Followers</th>\n",
       "      <th>Following</th>\n",
       "    </tr>\n",
       "  </thead>\n",
       "  <tbody>\n",
       "    <tr>\n",
       "      <th>mexicansombrero</th>\n",
       "      <td>05/14/2020 08:57:20</td>\n",
       "      <td>[j._bettina._betty, artsy__.lens, barney_potte...</td>\n",
       "      <td>[adele, highpaysha, officialstevenbauer, iferg...</td>\n",
       "    </tr>\n",
       "  </tbody>\n",
       "</table>\n",
       "</div>"
      ],
      "text/plain": [
       "                          DateRunning  \\\n",
       "mexicansombrero  05/14/2020 08:57:20    \n",
       "\n",
       "                                                         Followers  \\\n",
       "mexicansombrero  [j._bettina._betty, artsy__.lens, barney_potte...   \n",
       "\n",
       "                                                         Following  \n",
       "mexicansombrero  [adele, highpaysha, officialstevenbauer, iferg...  "
      ]
     },
     "execution_count": 62,
     "metadata": {},
     "output_type": "execute_result"
    }
   ],
   "source": [
    "followers = pd.read_json(\"followersInfo.json\")\n",
    "followersCopy = followers.T\n",
    "followersCopy"
   ]
  },
  {
   "cell_type": "code",
   "execution_count": 68,
   "metadata": {},
   "outputs": [],
   "source": [
    "listFollowers = followersCopy['Followers']\n",
    "copyLF = list(listFollowers)\n",
    "s = copyLF[0]\n",
    "nFollower = len(s)"
   ]
  },
  {
   "cell_type": "code",
   "execution_count": 69,
   "metadata": {},
   "outputs": [],
   "source": [
    "listFollowing = followersCopy['Following']\n",
    "copyLFG = list(listFollowing)\n",
    "s1 = copyLFG[0]\n",
    "nFollowing = len(s1)"
   ]
  },
  {
   "cell_type": "code",
   "execution_count": 71,
   "metadata": {},
   "outputs": [],
   "source": [
    "followersCopy['Followers'] = nFollower\n",
    "followersCopy['Following'] = nFollowing\n",
    "followersCopy.to_csv('15.05.Mexican')"
   ]
  },
  {
   "cell_type": "code",
   "execution_count": null,
   "metadata": {},
   "outputs": [],
   "source": []
  }
 ],
 "metadata": {
  "kernelspec": {
   "display_name": "Python 3",
   "language": "python",
   "name": "python3"
  },
  "language_info": {
   "codemirror_mode": {
    "name": "ipython",
    "version": 3
   },
   "file_extension": ".py",
   "mimetype": "text/x-python",
   "name": "python",
   "nbconvert_exporter": "python",
   "pygments_lexer": "ipython3",
   "version": "3.8.2"
  }
 },
 "nbformat": 4,
 "nbformat_minor": 4
}
